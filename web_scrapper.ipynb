{
  "nbformat": 4,
  "nbformat_minor": 0,
  "metadata": {
    "colab": {
      "provenance": [],
      "authorship_tag": "ABX9TyNYmISb9+xlaExY38WEgVZK"
    },
    "kernelspec": {
      "name": "python3",
      "display_name": "Python 3"
    },
    "language_info": {
      "name": "python"
    }
  },
  "cells": [
    {
      "cell_type": "code",
      "execution_count": 4,
      "metadata": {
        "colab": {
          "base_uri": "https://localhost:8080/"
        },
        "id": "kCtJ4kIxLXMB",
        "outputId": "6511533b-9ef2-4992-b116-dde695d1ffb8"
      },
      "outputs": [
        {
          "output_type": "stream",
          "name": "stdout",
          "text": [
            "Instalando a biblioteca google-search-results...\n",
            "\n",
            "Iniciando a busca de dados no Google...\n",
            "\n",
            "Buscando dados da página 1/10...\n",
            "Encontramos 20 resultados nesta página. Processando...\n",
            "\n",
            "Buscando dados da página 2/10...\n",
            "Encontramos 20 resultados nesta página. Processando...\n",
            "\n",
            "Buscando dados da página 3/10...\n",
            "Encontramos 20 resultados nesta página. Processando...\n",
            "\n",
            "Buscando dados da página 4/10...\n",
            "Encontramos 20 resultados nesta página. Processando...\n",
            "\n",
            "Buscando dados da página 5/10...\n",
            "Encontramos 20 resultados nesta página. Processando...\n",
            "\n",
            "Buscando dados da página 6/10...\n",
            "Encontramos 20 resultados nesta página. Processando...\n",
            "\n",
            "Buscando dados da página 7/10...\n",
            "Não foram encontrados mais resultados. Finalizando a busca.\n",
            "\n",
            "Busca concluída! Total de 102 estabelecimentos válidos encontrados.\n",
            "Preparando para salvar no arquivo...\n",
            "\n",
            "SUCESSO! Os dados foram salvos no arquivo 'casas_de_repouso_simplificado.csv'.\n",
            "Você pode encontrá-lo no painel de arquivos (ícone de pasta 📁) à esquerda.\n"
          ]
        }
      ],
      "source": [
        "\n",
        "print(\"Instalando a biblioteca google-search-results...\")\n",
        "!pip install -q google-search-results\n",
        "\n",
        "\n",
        "import csv\n",
        "import time\n",
        "from serpapi import GoogleSearch\n",
        "from google.colab import userdata\n",
        "\n",
        "def buscar_e_salvar_asilos_colab():\n",
        "    \"\"\"\n",
        "    Realiza uma busca paginada (até 10 páginas) no Google por casas de repouso,\n",
        "    filtra e salva os dados com colunas simplificadas em um arquivo CSV.\n",
        "    \"\"\"\n",
        "    print(\"\\nIniciando a busca de dados no Google...\")\n",
        "\n",
        "\n",
        "    try:\n",
        "        api_key = userdata.get('api_key')\n",
        "    except Exception as e:\n",
        "        print(\"ERRO: Não foi possível encontrar o Secret 'SERPAPI_KEY'.\")\n",
        "        print(\"Por favor, verifique se você o criou corretamente com este nome.\")\n",
        "        return\n",
        "\n",
        "\n",
        "    todos_os_dados_validos = []\n",
        "\n",
        "\n",
        "    for pagina in range(1, 11):\n",
        "        offset = (pagina - 1) * 20\n",
        "        print(f\"\\nBuscando dados da página {pagina}/10...\")\n",
        "\n",
        "\n",
        "        params = {\n",
        "            \"engine\": \"google_local\",\n",
        "            \"q\": \"casa de repouso\",\n",
        "            \"location\": \"Recife, Pernambuco, Brazil\",\n",
        "            \"hl\": \"pt-br\",\n",
        "            \"gl\": \"br\",\n",
        "            \"start\": offset,\n",
        "            \"api_key\": api_key\n",
        "        }\n",
        "\n",
        "\n",
        "        search = GoogleSearch(params)\n",
        "        results = search.get_dict()\n",
        "\n",
        "\n",
        "        if \"local_results\" in results:\n",
        "            dados_desta_pagina = results[\"local_results\"]\n",
        "            print(f\"Encontramos {len(dados_desta_pagina)} resultados nesta página. Processando...\")\n",
        "\n",
        "            for asilo in dados_desta_pagina:\n",
        "\n",
        "                if not asilo.get(\"phone\") or not asilo.get(\"address\"):\n",
        "                    continue\n",
        "\n",
        "\n",
        "                todos_os_dados_validos.append({\n",
        "                    'nome': asilo.get(\"title\", \"Não informado\"),\n",
        "                    'contato': asilo.get(\"phone\", \"Não informado\"),\n",
        "                    'endereco': asilo.get(\"address\", \"Não informado\"),\n",
        "                    'tipo': asilo.get(\"type\", \"Não informado\")\n",
        "                })\n",
        "        else:\n",
        "            print(\"Não foram encontrados mais resultados. Finalizando a busca.\")\n",
        "            break\n",
        "\n",
        "        time.sleep(1)\n",
        "\n",
        "\n",
        "    if not todos_os_dados_validos:\n",
        "        print(\"\\nNenhum estabelecimento válido foi encontrado após a busca em todas as páginas.\")\n",
        "        return\n",
        "\n",
        "    print(f\"\\nBusca concluída! Total de {len(todos_os_dados_validos)} estabelecimentos válidos encontrados.\")\n",
        "    print(\"Preparando para salvar no arquivo...\")\n",
        "\n",
        "    nome_arquivo = \"casas_de_repouso_simplificado.csv\"\n",
        "\n",
        "    with open(nome_arquivo, 'w', newline='', encoding='utf-8') as arquivo_csv:\n",
        "        campos = ['nome', 'contato', 'endereco', 'tipo']\n",
        "        escritor_csv = csv.DictWriter(arquivo_csv, fieldnames=campos)\n",
        "        escritor_csv.writeheader()\n",
        "\n",
        "        escritor_csv.writerows(todos_os_dados_validos)\n",
        "\n",
        "    print(f\"\\nSUCESSO! Os dados foram salvos no arquivo '{nome_arquivo}'.\")\n",
        "    print(\"Você pode encontrá-lo no painel de arquivos (ícone de pasta 📁) à esquerda.\")\n",
        "\n",
        "\n",
        "if __name__ == \"__main__\":\n",
        "    buscar_e_salvar_asilos_colab()"
      ]
    },
    {
      "cell_type": "code",
      "source": [
        "from google.colab import drive\n",
        "drive.mount('/content/drive', force_remount=True)"
      ],
      "metadata": {
        "colab": {
          "base_uri": "https://localhost:8080/"
        },
        "id": "s44QSxszLaVu",
        "outputId": "f1758302-0d02-4015-ca85-fc492f95a8d6"
      },
      "execution_count": 5,
      "outputs": [
        {
          "output_type": "stream",
          "name": "stdout",
          "text": [
            "Mounted at /content/drive\n"
          ]
        }
      ]
    }
  ]
}